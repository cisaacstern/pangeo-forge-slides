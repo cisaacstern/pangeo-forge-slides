{
 "cells": [
  {
   "cell_type": "code",
   "execution_count": null,
   "id": "389bad4b",
   "metadata": {},
   "outputs": [],
   "source": [
    "!pip install -U s3fs"
   ]
  },
  {
   "cell_type": "code",
   "execution_count": null,
   "id": "bd0f5ad8",
   "metadata": {
    "slideshow": {
     "slide_type": "skip"
    }
   },
   "outputs": [],
   "source": [
    "from rich import print"
   ]
  },
  {
   "cell_type": "markdown",
   "id": "dca23a8d",
   "metadata": {
    "slideshow": {
     "slide_type": "slide"
    },
    "tags": []
   },
   "source": [
    "# Pangeo Forge: Transforming archival data into analysis-ready, cloud-optimized (ARCO)  formats\n",
    "\n",
    "**Charles Stern** ([@cisaacstern](http://github.com/cisaacstern)), Data Infrastructure Engineer, Lamont-Doherty Earth Observatory (LDEO)\n",
    "\n",
    "Presentation Repo: https://github.com/cisaacstern/pangeo-forge-slides"
   ]
  },
  {
   "cell_type": "markdown",
   "id": "994ed6cd",
   "metadata": {
    "jp-MarkdownHeadingCollapsed": true,
    "slideshow": {
     "slide_type": "slide"
    },
    "tags": []
   },
   "source": [
    "### NOAA Optimum Interpolation Sea Surface Temperature (OISST)\n",
    "\n",
    "For this example we will consider the [NOAA OISST](https://www.psl.noaa.gov/data/gridded/data.noaa.oisst.v2.html) dataset. This dataset serves as a generic example of how many source files, each representing a temporal subset of a larger dataset, can be transformed into a single, consolidated ARCO datastore using Pangeo Forge."
   ]
  },
  {
   "cell_type": "markdown",
   "id": "159d8733",
   "metadata": {
    "slideshow": {
     "slide_type": "slide"
    },
    "tags": []
   },
   "source": [
    "## NOAA OISST `http` index\n",
    "https://www.ncei.noaa.gov/data/sea-surface-temperature-optimum-interpolation/v2.1/access/avhrr/\n",
    "```\n",
    " │\n",
    " ├──198109/\n",
    " │   ├──oisst-avhrr-v02r01.19810901.nc\n",
    " │  ...\n",
    " │   └──oisst-avhrr-v02r01.19810930.nc\n",
    "...\n",
    " └──202110/\n",
    "```"
   ]
  },
  {
   "cell_type": "code",
   "execution_count": null,
   "id": "44fcb6d5",
   "metadata": {
    "slideshow": {
     "slide_type": "subslide"
    },
    "tags": []
   },
   "outputs": [],
   "source": [
    "!wget 'https://www.ncei.noaa.gov/data/sea-surface-temperature-optimum-interpolation/v2.1/access/avhrr/198109/oisst-avhrr-v02r01.19810901.nc'"
   ]
  },
  {
   "cell_type": "code",
   "execution_count": null,
   "id": "7ff96274",
   "metadata": {
    "slideshow": {
     "slide_type": "subslide"
    },
    "tags": []
   },
   "outputs": [],
   "source": [
    "import xarray as xr\n",
    "\n",
    "ds = xr.open_dataset(\"oisst-avhrr-v02r01.19810901.nc\")\n",
    "nbytes = ds.nbytes\n",
    "print(f\"{nbytes/1e6:.2f} MB\")\n",
    "ds"
   ]
  },
  {
   "cell_type": "code",
   "execution_count": null,
   "id": "5af6d65f",
   "metadata": {
    "slideshow": {
     "slide_type": "subslide"
    }
   },
   "outputs": [],
   "source": [
    "import pandas as pd\n",
    "\n",
    "# Our target range includes 14372 files\n",
    "dates = pd.date_range(\"1981-09-01\", \"2021-01-05\", freq=\"D\")\n",
    "\n",
    "print(f\"{len(dates)} files -> {(len(dates)*nbytes)/1e9:.2f} GB\")"
   ]
  },
  {
   "cell_type": "markdown",
   "id": "c6ab3156",
   "metadata": {
    "jp-MarkdownHeadingCollapsed": true,
    "slideshow": {
     "slide_type": "slide"
    },
    "tags": []
   },
   "source": [
    "### The old way: start downloading\n",
    "\n",
    "This will take awhile! \n",
    "\n",
    "And the end result is likely not well-situated for parallel computation."
   ]
  },
  {
   "cell_type": "markdown",
   "id": "857f881a",
   "metadata": {
    "slideshow": {
     "slide_type": "slide"
    }
   },
   "source": [
    "# A better way: Pangeo Forge\n",
    "\n",
    "`pangeo-forge-recipes` provides logic for transforming all of these source files into a single consolidated zarr store."
   ]
  },
  {
   "cell_type": "markdown",
   "id": "21959734",
   "metadata": {
    "slideshow": {
     "slide_type": "slide"
    },
    "tags": []
   },
   "source": [
    "## What's a `recipe`?\n",
    "\n",
    "A `recipe` is a Python file which can \"see\" all of the source files, and also knows how to logically arrange them into a cohesive dataset."
   ]
  },
  {
   "cell_type": "markdown",
   "id": "52448477",
   "metadata": {
    "slideshow": {
     "slide_type": "subslide"
    }
   },
   "source": [
    "<img src='architecture.png'>"
   ]
  },
  {
   "cell_type": "code",
   "execution_count": null,
   "id": "c37f6754",
   "metadata": {
    "slideshow": {
     "slide_type": "subslide"
    }
   },
   "outputs": [],
   "source": [
    "# https://github.com/pangeo-forge/staged-recipes/blob/master/recipes/noaa-oisst/recipe.py\n",
    "\n",
    "from noaa_oisst_recipe import recipe\n",
    "\n",
    "for i, kv in enumerate(recipe.file_pattern.items()):\n",
    "    if i < 2 or i > 14369:\n",
    "        print(kv[0], kv[1])"
   ]
  },
  {
   "cell_type": "markdown",
   "id": "0a918d33",
   "metadata": {
    "slideshow": {
     "slide_type": "slide"
    }
   },
   "source": [
    "# Zarr format\n",
    "\n",
    "- Compressed, N-dimensional arrays of any NumPy data type\n",
    "- Chunking in any dimension\n",
    "- Read & write array chunks concurrently from multiple threads or processes\n",
    "\n",
    "https://zarr.readthedocs.io/en/stable/"
   ]
  },
  {
   "cell_type": "markdown",
   "id": "b66378d8",
   "metadata": {
    "slideshow": {
     "slide_type": "subslide"
    },
    "tags": []
   },
   "source": [
    "# Zarr build\n",
    "1. Cache files to cloud\n",
    "2. Write Zarr \"skeleton\" to target location\n",
    "3. Write Zarr chunks\n",
    "4. Consolidate metadata"
   ]
  },
  {
   "cell_type": "markdown",
   "id": "c7bb03c7",
   "metadata": {
    "slideshow": {
     "slide_type": "subslide"
    }
   },
   "source": [
    "> For parallel computation with Dask, 50-100 MB chunks tend to work well. In Pangeo Forge, contributors specify chunking with the `XarrayZarrRecipe.target_chunks` keyword; e.g., `target_chunks={\"time\": 10}`."
   ]
  },
  {
   "cell_type": "code",
   "execution_count": null,
   "id": "7f9b0b78",
   "metadata": {
    "slideshow": {
     "slide_type": "subslide"
    }
   },
   "outputs": [],
   "source": [
    "import s3fs\n",
    "import xarray as xr\n",
    "\n",
    "endpoint_url = \"https://ncsa.osn.xsede.org\"\n",
    "fs_osn = s3fs.S3FileSystem(anon=True, client_kwargs={\"endpoint_url\": endpoint_url},)\n",
    "\n",
    "path = \"s3://Pangeo/pangeo-forge/noaa_oisst/v2.1-avhrr.zarr\"\n",
    "ds = xr.open_zarr(fs_osn.get_mapper(path), consolidated=True)\n",
    "print(f\"{ds.nbytes/1e9:.2f} GB\")\n",
    "ds"
   ]
  },
  {
   "cell_type": "markdown",
   "id": "af3dad4f",
   "metadata": {
    "slideshow": {
     "slide_type": "slide"
    }
   },
   "source": [
    "# An unbroken _provenance chain_\n",
    "\n",
    "From source archive ...\n",
    "\n",
    "https://www.ncei.noaa.gov/data/sea-surface-temperature-optimum-interpolation/v2.1/access/avhrr/\n",
    "\n",
    "... through `recipe` ...\n",
    "\n",
    "https://github.com/pangeo-forge/staged-recipes/blob/master/recipes/noaa-oisst/recipe.py\n",
    "\n",
    "... to Zarr dataset.\n",
    "\n",
    "**s3://Pangeo/pangeo-forge/noaa_oisst/v2.1-avhrr.zarr**"
   ]
  },
  {
   "cell_type": "markdown",
   "id": "eb63becb",
   "metadata": {
    "slideshow": {
     "slide_type": "slide"
    }
   },
   "source": [
    "## Today\n",
    "- Start working on a recipe: https://pangeo-forge.readthedocs.io/en/latest/\n",
    "- Add it to the queue for automated builds: https://github.com/pangeo-forge/staged-recipes/pulls\n",
    "- Build it using a notebook\n",
    "\n",
    "## Soon\n",
    "- Build your recipe in an automated \"Bakery\"\n",
    "- Browse (and contribute to) a STAC catalog of available Zarr datasets"
   ]
  }
 ],
 "metadata": {
  "celltoolbar": "Slideshow",
  "interpreter": {
   "hash": "17cbe981d2a215796e0ced3918861e033dc690df05cffe90ee5c9c8156b2d59a"
  },
  "kernelspec": {
   "display_name": "Python 3 (ipykernel)",
   "language": "python",
   "name": "python3"
  },
  "language_info": {
   "codemirror_mode": {
    "name": "ipython",
    "version": 3
   },
   "file_extension": ".py",
   "mimetype": "text/x-python",
   "name": "python",
   "nbconvert_exporter": "python",
   "pygments_lexer": "ipython3",
   "version": "3.8.12"
  },
  "rise": {
   "theme": "simple"
  }
 },
 "nbformat": 4,
 "nbformat_minor": 5
}
