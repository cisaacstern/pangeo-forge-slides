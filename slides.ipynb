{
 "cells": [
  {
   "cell_type": "code",
   "execution_count": null,
   "id": "931c3f91",
   "metadata": {
    "slideshow": {
     "slide_type": "skip"
    }
   },
   "outputs": [],
   "source": [
    "from rich import print"
   ]
  },
  {
   "cell_type": "markdown",
   "id": "d256c441",
   "metadata": {
    "slideshow": {
     "slide_type": "slide"
    },
    "tags": []
   },
   "source": [
    "# Pangeo Forge: Transforming archival data into analysis-ready, cloud-optimized (ARCO)  formats\n",
    "\n",
    "**Charles Stern** ([@cisaacstern](http://github.com/cisaacstern)), Data Infrastructure Engineer, Lamont-Doherty Earth Observatory (LDEO)\n",
    "\n",
    "Presentation Repo: https://github.com/cisaacstern/pangeo-forge-slides"
   ]
  },
  {
   "cell_type": "markdown",
   "id": "eaa008c8",
   "metadata": {
    "jp-MarkdownHeadingCollapsed": true,
    "slideshow": {
     "slide_type": "slide"
    },
    "tags": []
   },
   "source": [
    "### NOAA Optimum Interpolation Sea Surface Temperature (OISST)\n",
    "\n",
    "For this example we will consider the [NOAA OISST](https://www.psl.noaa.gov/data/gridded/data.noaa.oisst.v2.html) dataset."
   ]
  },
  {
   "cell_type": "markdown",
   "id": "8f97eacc",
   "metadata": {
    "slideshow": {
     "slide_type": "slide"
    },
    "tags": []
   },
   "source": [
    "## NOAA OISST `http` index\n",
    "https://www.ncei.noaa.gov/data/sea-surface-temperature-optimum-interpolation/v2.1/access/avhrr/198109/\n",
    "```\n",
    " │\n",
    " ├──198109/\n",
    " │   ├──oisst-avhrr-v02r01.19810901.nc\n",
    " │  ...\n",
    " │   └──oisst-avhrr-v02r01.19810930.nc\n",
    "...\n",
    " └──202110/\n",
    "```"
   ]
  },
  {
   "cell_type": "code",
   "execution_count": null,
   "id": "814bc795-a0ef-4491-881a-37f59a7e986a",
   "metadata": {
    "slideshow": {
     "slide_type": "subslide"
    },
    "tags": []
   },
   "outputs": [],
   "source": [
    "!wget 'https://www.ncei.noaa.gov/data/sea-surface-temperature-optimum-interpolation/v2.1/access/avhrr/198109/oisst-avhrr-v02r01.19810901.nc'"
   ]
  },
  {
   "cell_type": "code",
   "execution_count": null,
   "id": "02358266-f53c-48d0-9806-0175fc8f3cf6",
   "metadata": {
    "slideshow": {
     "slide_type": "subslide"
    },
    "tags": []
   },
   "outputs": [],
   "source": [
    "import xarray as xr\n",
    "\n",
    "ds = xr.open_dataset(\"oisst-avhrr-v02r01.19810901.nc\")\n",
    "nbytes = ds.nbytes\n",
    "print(f\"{nbytes/1e6:.2f} MB\")\n",
    "ds"
   ]
  },
  {
   "cell_type": "code",
   "execution_count": null,
   "id": "25816e6b",
   "metadata": {
    "slideshow": {
     "slide_type": "subslide"
    }
   },
   "outputs": [],
   "source": [
    "import pandas as pd\n",
    "\n",
    "# Our target range includes 14372 files\n",
    "dates = pd.date_range(\"1981-09-01\", \"2021-01-05\", freq=\"D\")\n",
    "\n",
    "print(f\"{len(dates)} files -> {(len(dates)*nbytes)/1e9:.2f} GB\")"
   ]
  },
  {
   "cell_type": "markdown",
   "id": "94a3c2d5",
   "metadata": {
    "jp-MarkdownHeadingCollapsed": true,
    "slideshow": {
     "slide_type": "slide"
    },
    "tags": []
   },
   "source": [
    "### The old way: start downloading\n",
    "\n",
    "This will take awhile! \n",
    "\n",
    "And the end result is likely not well-situated for parallel computation."
   ]
  },
  {
   "cell_type": "markdown",
   "id": "d3c23324",
   "metadata": {
    "slideshow": {
     "slide_type": "slide"
    }
   },
   "source": [
    "# A better way: Pangeo Forge\n",
    "\n",
    "`pangeo-forge-recipes` provides logic for transforming all of these source files into a single consolidated zarr store."
   ]
  },
  {
   "cell_type": "markdown",
   "id": "e94c46b4",
   "metadata": {
    "slideshow": {
     "slide_type": "slide"
    },
    "tags": []
   },
   "source": [
    "## What's a `recipe`?\n",
    "\n",
    "A `recipe` is a Python file which can \"see\" all of the source files, and also knows how to logically arrange them into a cohesive dataset."
   ]
  },
  {
   "cell_type": "markdown",
   "id": "48e0786e",
   "metadata": {
    "slideshow": {
     "slide_type": "subslide"
    }
   },
   "source": [
    "<img src='architecture.png'>"
   ]
  },
  {
   "cell_type": "code",
   "execution_count": null,
   "id": "55d44e7e",
   "metadata": {
    "slideshow": {
     "slide_type": "subslide"
    }
   },
   "outputs": [],
   "source": [
    "# https://github.com/pangeo-forge/staged-recipes/blob/master/recipes/noaa-oisst/recipe.py\n",
    "\n",
    "from noaa_oisst_recipe import recipe\n",
    "\n",
    "for i, kv in enumerate(recipe.file_pattern.items()):\n",
    "    if i < 2 or i > 14369:\n",
    "        print(kv[0], kv[1])"
   ]
  },
  {
   "cell_type": "markdown",
   "id": "3d9b630d",
   "metadata": {
    "slideshow": {
     "slide_type": "slide"
    },
    "tags": []
   },
   "source": [
    "# Zarr build: steps\n",
    "\n",
    "1. Cache files to cloud\n",
    "2. Write Zarr \"skeleton\" to target location\n",
    "3. Write Zarr chunks\n",
    "> For parallel computation with Dask, ~50-100 MB chunks tend to work well.\n",
    "4. Consolidate metadata"
   ]
  },
  {
   "cell_type": "code",
   "execution_count": null,
   "id": "3f8bb158",
   "metadata": {
    "slideshow": {
     "slide_type": "subslide"
    }
   },
   "outputs": [],
   "source": [
    "import s3fs\n",
    "import xarray as xr\n",
    "\n",
    "endpoint_url = 'https://ncsa.osn.xsede.org'\n",
    "fs_osn = s3fs.S3FileSystem(anon=True, client_kwargs={'endpoint_url': endpoint_url},)\n",
    "\n",
    "path = \"Pangeo/pangeo-forge/noaa_oisst/v2.1-avhrr.zarr\"\n",
    "ds = xr.open_zarr(fs_osn.get_mapper(path), consolidated=True)\n",
    "print(f\"{ds.nbytes/1e9:.2f} GB\")\n",
    "ds"
   ]
  },
  {
   "cell_type": "markdown",
   "id": "f6aa2f61",
   "metadata": {
    "slideshow": {
     "slide_type": "slide"
    }
   },
   "source": [
    "## Today\n",
    "- Start working on a recipe: https://pangeo-forge.readthedocs.io/en/latest/\n",
    "- Add it to the queue for automated builds: https://github.com/pangeo-forge/staged-recipes/pulls\n",
    "- Build it using a notebook\n",
    "\n",
    "## Soon\n",
    "- Build your recipe in an automated \"Bakery\"\n",
    "- Browse (and contribute to) a STAC catalog of available Zarr datasets"
   ]
  }
 ],
 "metadata": {
  "celltoolbar": "Slideshow",
  "interpreter": {
   "hash": "17cbe981d2a215796e0ced3918861e033dc690df05cffe90ee5c9c8156b2d59a"
  },
  "kernelspec": {
   "display_name": "Python 3 (ipykernel)",
   "language": "python",
   "name": "python3"
  },
  "language_info": {
   "codemirror_mode": {
    "name": "ipython",
    "version": 3
   },
   "file_extension": ".py",
   "mimetype": "text/x-python",
   "name": "python",
   "nbconvert_exporter": "python",
   "pygments_lexer": "ipython3",
   "version": "3.8.12"
  },
  "rise": {
   "theme": "simple"
  }
 },
 "nbformat": 4,
 "nbformat_minor": 5
}
