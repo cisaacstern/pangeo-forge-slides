{
 "cells": [
  {
   "cell_type": "code",
   "execution_count": null,
   "id": "1d224d52",
   "metadata": {
    "scrolled": true
   },
   "outputs": [],
   "source": [
    "# !pip install -U s3fs"
   ]
  },
  {
   "cell_type": "code",
   "execution_count": 1,
   "id": "65f90c8d",
   "metadata": {
    "slideshow": {
     "slide_type": "skip"
    }
   },
   "outputs": [],
   "source": [
    "from rich import print"
   ]
  },
  {
   "cell_type": "markdown",
   "id": "dc0c77c7",
   "metadata": {
    "slideshow": {
     "slide_type": "slide"
    },
    "tags": []
   },
   "source": [
    "## Pangeo Forge: Transforming archival data into analysis-ready, cloud-optimized (ARCO) data stores\n",
    "\n",
    "[NSF Award 2026932](https://www.nsf.gov/awardsearch/showAward?AWD_ID=2026932)\n",
    "\n",
    "_Frontiers In Climate_ paper: https://doi.org/10.3389/fclim.2021.782909\n",
    "\n",
    "Slides: https://github.com/cisaacstern/pangeo-forge-slides/blob/esip-feb-2022/slides.ipynb"
   ]
  },
  {
   "cell_type": "markdown",
   "id": "e6c3354b",
   "metadata": {
    "slideshow": {
     "slide_type": "slide"
    },
    "tags": []
   },
   "source": [
    "## NOAA Optimum Interpolation Sea Surface Temperature (OISST) `http` index\n",
    "https://www.ncei.noaa.gov/data/sea-surface-temperature-optimum-interpolation/v2.1/access/avhrr/\n",
    "```\n",
    " │\n",
    " ├──198109/\n",
    " │   ├──oisst-avhrr-v02r01.19810901.nc\n",
    " │  ...\n",
    " │   └──oisst-avhrr-v02r01.19810930.nc\n",
    "...\n",
    " └──202110/\n",
    "```"
   ]
  },
  {
   "cell_type": "code",
   "execution_count": 2,
   "id": "2f82b6fc",
   "metadata": {
    "slideshow": {
     "slide_type": "subslide"
    },
    "tags": []
   },
   "outputs": [
    {
     "name": "stdout",
     "output_type": "stream",
     "text": [
      "--2022-02-28 09:46:55--  https://www.ncei.noaa.gov/data/sea-surface-temperature-optimum-interpolation/v2.1/access/avhrr/198109/oisst-avhrr-v02r01.19810901.nc\n",
      "Resolving www.ncei.noaa.gov... 2610:20:8040:2::177, 2610:20:8040:2::172, 2610:20:8040:2::168, ...\n",
      "Connecting to www.ncei.noaa.gov|2610:20:8040:2::177|:443... connected.\n",
      "HTTP request sent, awaiting response... 200 OK\n",
      "Length: 1714749 (1.6M) [application/x-netcdf]\n",
      "Saving to: 'oisst-avhrr-v02r01.19810901.nc.17'\n",
      "\n",
      "oisst-avhrr-v02r01. 100%[===================>]   1.63M  2.74MB/s    in 0.6s    \n",
      "\n",
      "2022-02-28 09:46:57 (2.74 MB/s) - 'oisst-avhrr-v02r01.19810901.nc.17' saved [1714749/1714749]\n",
      "\n"
     ]
    }
   ],
   "source": [
    "!wget 'https://www.ncei.noaa.gov/data/sea-surface-temperature-optimum-interpolation/v2.1/access/avhrr/198109/oisst-avhrr-v02r01.19810901.nc'"
   ]
  },
  {
   "cell_type": "code",
   "execution_count": 3,
   "id": "21d6acdc",
   "metadata": {
    "slideshow": {
     "slide_type": "subslide"
    },
    "tags": []
   },
   "outputs": [
    {
     "data": {
      "text/html": [
       "<pre style=\"white-space:pre;overflow-x:auto;line-height:normal;font-family:Menlo,'DejaVu Sans Mono',consolas,'Courier New',monospace\"><span style=\"color: #008080; text-decoration-color: #008080; font-weight: bold\">16.60</span> MB\n",
       "</pre>\n"
      ],
      "text/plain": [
       "\u001b[1;36m16.60\u001b[0m MB\n"
      ]
     },
     "metadata": {},
     "output_type": "display_data"
    },
    {
     "data": {
      "text/html": [
       "<pre style=\"white-space:pre;overflow-x:auto;line-height:normal;font-family:Menlo,'DejaVu Sans Mono',consolas,'Courier New',monospace\"><span style=\"font-weight: bold\">&lt;</span><span style=\"color: #ff00ff; text-decoration-color: #ff00ff; font-weight: bold\">xarray.Dataset</span><span style=\"font-weight: bold\">&gt;</span>\n",
       "Dimensions:  <span style=\"font-weight: bold\">(</span>time: <span style=\"color: #008080; text-decoration-color: #008080; font-weight: bold\">1</span>, zlev: <span style=\"color: #008080; text-decoration-color: #008080; font-weight: bold\">1</span>, lat: <span style=\"color: #008080; text-decoration-color: #008080; font-weight: bold\">720</span>, lon: <span style=\"color: #008080; text-decoration-color: #008080; font-weight: bold\">1440</span><span style=\"font-weight: bold\">)</span>\n",
       "Coordinates:\n",
       "  * lat      <span style=\"font-weight: bold\">(</span>lat<span style=\"font-weight: bold\">)</span> float32 <span style=\"color: #008080; text-decoration-color: #008080; font-weight: bold\">-89.88</span> <span style=\"color: #008080; text-decoration-color: #008080; font-weight: bold\">-89.62</span> <span style=\"color: #008080; text-decoration-color: #008080; font-weight: bold\">-89.38</span> <span style=\"color: #008080; text-decoration-color: #008080; font-weight: bold\">-89.12</span> <span style=\"color: #808000; text-decoration-color: #808000\">...</span> <span style=\"color: #008080; text-decoration-color: #008080; font-weight: bold\">89.38</span> <span style=\"color: #008080; text-decoration-color: #008080; font-weight: bold\">89.62</span> <span style=\"color: #008080; text-decoration-color: #008080; font-weight: bold\">89.88</span>\n",
       "  * lon      <span style=\"font-weight: bold\">(</span>lon<span style=\"font-weight: bold\">)</span> float32 <span style=\"color: #008080; text-decoration-color: #008080; font-weight: bold\">0.125</span> <span style=\"color: #008080; text-decoration-color: #008080; font-weight: bold\">0.375</span> <span style=\"color: #008080; text-decoration-color: #008080; font-weight: bold\">0.625</span> <span style=\"color: #008080; text-decoration-color: #008080; font-weight: bold\">0.875</span> <span style=\"color: #808000; text-decoration-color: #808000\">...</span> <span style=\"color: #008080; text-decoration-color: #008080; font-weight: bold\">359.1</span> <span style=\"color: #008080; text-decoration-color: #008080; font-weight: bold\">359.4</span> <span style=\"color: #008080; text-decoration-color: #008080; font-weight: bold\">359.6</span> <span style=\"color: #008080; text-decoration-color: #008080; font-weight: bold\">359.9</span>\n",
       "  * time     <span style=\"font-weight: bold\">(</span>time<span style=\"font-weight: bold\">)</span> datetime64<span style=\"font-weight: bold\">[</span>ns<span style=\"font-weight: bold\">]</span> <span style=\"color: #008080; text-decoration-color: #008080; font-weight: bold\">1981</span>-<span style=\"color: #008080; text-decoration-color: #008080; font-weight: bold\">09</span>-01T<span style=\"color: #00ff00; text-decoration-color: #00ff00; font-weight: bold\">12:00:00</span>\n",
       "  * zlev     <span style=\"font-weight: bold\">(</span>zlev<span style=\"font-weight: bold\">)</span> float32 <span style=\"color: #008080; text-decoration-color: #008080; font-weight: bold\">0.0</span>\n",
       "Data variables:\n",
       "    anom     <span style=\"font-weight: bold\">(</span>time, zlev, lat, lon<span style=\"font-weight: bold\">)</span> float32 <span style=\"color: #808000; text-decoration-color: #808000\">...</span>\n",
       "    err      <span style=\"font-weight: bold\">(</span>time, zlev, lat, lon<span style=\"font-weight: bold\">)</span> float32 <span style=\"color: #808000; text-decoration-color: #808000\">...</span>\n",
       "    ice      <span style=\"font-weight: bold\">(</span>time, zlev, lat, lon<span style=\"font-weight: bold\">)</span> float32 <span style=\"color: #808000; text-decoration-color: #808000\">...</span>\n",
       "    sst      <span style=\"font-weight: bold\">(</span>time, zlev, lat, lon<span style=\"font-weight: bold\">)</span> float32 <span style=\"color: #808000; text-decoration-color: #808000\">...</span>\n",
       "Attributes: <span style=\"font-weight: bold\">(</span><span style=\"color: #008080; text-decoration-color: #008080; font-weight: bold\">12</span>/<span style=\"color: #008080; text-decoration-color: #008080; font-weight: bold\">37</span><span style=\"font-weight: bold\">)</span>\n",
       "    title:                      NOAA/NCEI <span style=\"color: #008080; text-decoration-color: #008080; font-weight: bold\">1</span>/<span style=\"color: #008080; text-decoration-color: #008080; font-weight: bold\">4</span> Degree Daily Optimum Interpolat<span style=\"color: #808000; text-decoration-color: #808000\">...</span>\n",
       "    source:                     ICOADS, NCEP_GTS, GSFC_ICE, NCEP_ICE, Pathfin<span style=\"color: #808000; text-decoration-color: #808000\">...</span>\n",
       "    id:                         oisst-avhrr-v02r01.<span style=\"color: #008080; text-decoration-color: #008080; font-weight: bold\">19810901.</span>nc\n",
       "    naming_authority:           gov.noaa.ncei\n",
       "    summary:                    NOAAs <span style=\"color: #008080; text-decoration-color: #008080; font-weight: bold\">1</span>/<span style=\"color: #008080; text-decoration-color: #008080; font-weight: bold\">4</span>-degree Daily Optimum Interpolation <span style=\"color: #808000; text-decoration-color: #808000\">...</span>\n",
       "    cdm_data_type:              Grid\n",
       "    <span style=\"color: #808000; text-decoration-color: #808000\">...</span>                         <span style=\"color: #808000; text-decoration-color: #808000\">...</span>\n",
       "    metadata_link:              <span style=\"color: #0000ff; text-decoration-color: #0000ff; text-decoration: underline\">https://doi.org/10.25921/RE9P-PT57</span>\n",
       "    ncei_template_version:      NCEI_NetCDF_Grid_Template_v2.<span style=\"color: #008080; text-decoration-color: #008080; font-weight: bold\">0</span>\n",
       "    comment:                    Data was converted from NetCDF-<span style=\"color: #008080; text-decoration-color: #008080; font-weight: bold\">3</span> to NetCDF-<span style=\"color: #008080; text-decoration-color: #008080; font-weight: bold\">4</span> <span style=\"color: #808000; text-decoration-color: #808000\">...</span>\n",
       "    sensor:                     Thermometer, AVHRR\n",
       "    Conventions:                CF-<span style=\"color: #008080; text-decoration-color: #008080; font-weight: bold\">1.6</span>, ACDD-<span style=\"color: #008080; text-decoration-color: #008080; font-weight: bold\">1.3</span>\n",
       "    references:                 Reynolds, et <span style=\"color: #800080; text-decoration-color: #800080; font-weight: bold\">al.</span><span style=\"font-weight: bold\">(</span><span style=\"color: #008080; text-decoration-color: #008080; font-weight: bold\">2007</span><span style=\"font-weight: bold\">)</span> Daily High-Resolution-<span style=\"color: #808000; text-decoration-color: #808000\">...</span>\n",
       "</pre>\n"
      ],
      "text/plain": [
       "\u001b[1m<\u001b[0m\u001b[1;95mxarray.Dataset\u001b[0m\u001b[1m>\u001b[0m\n",
       "Dimensions:  \u001b[1m(\u001b[0mtime: \u001b[1;36m1\u001b[0m, zlev: \u001b[1;36m1\u001b[0m, lat: \u001b[1;36m720\u001b[0m, lon: \u001b[1;36m1440\u001b[0m\u001b[1m)\u001b[0m\n",
       "Coordinates:\n",
       "  * lat      \u001b[1m(\u001b[0mlat\u001b[1m)\u001b[0m float32 \u001b[1;36m-89.88\u001b[0m \u001b[1;36m-89.62\u001b[0m \u001b[1;36m-89.38\u001b[0m \u001b[1;36m-89.12\u001b[0m \u001b[33m...\u001b[0m \u001b[1;36m89.38\u001b[0m \u001b[1;36m89.62\u001b[0m \u001b[1;36m89.88\u001b[0m\n",
       "  * lon      \u001b[1m(\u001b[0mlon\u001b[1m)\u001b[0m float32 \u001b[1;36m0.125\u001b[0m \u001b[1;36m0.375\u001b[0m \u001b[1;36m0.625\u001b[0m \u001b[1;36m0.875\u001b[0m \u001b[33m...\u001b[0m \u001b[1;36m359.1\u001b[0m \u001b[1;36m359.4\u001b[0m \u001b[1;36m359.6\u001b[0m \u001b[1;36m359.9\u001b[0m\n",
       "  * time     \u001b[1m(\u001b[0mtime\u001b[1m)\u001b[0m datetime64\u001b[1m[\u001b[0mns\u001b[1m]\u001b[0m \u001b[1;36m1981\u001b[0m-\u001b[1;36m09\u001b[0m-01T\u001b[1;92m12:00:00\u001b[0m\n",
       "  * zlev     \u001b[1m(\u001b[0mzlev\u001b[1m)\u001b[0m float32 \u001b[1;36m0.0\u001b[0m\n",
       "Data variables:\n",
       "    anom     \u001b[1m(\u001b[0mtime, zlev, lat, lon\u001b[1m)\u001b[0m float32 \u001b[33m...\u001b[0m\n",
       "    err      \u001b[1m(\u001b[0mtime, zlev, lat, lon\u001b[1m)\u001b[0m float32 \u001b[33m...\u001b[0m\n",
       "    ice      \u001b[1m(\u001b[0mtime, zlev, lat, lon\u001b[1m)\u001b[0m float32 \u001b[33m...\u001b[0m\n",
       "    sst      \u001b[1m(\u001b[0mtime, zlev, lat, lon\u001b[1m)\u001b[0m float32 \u001b[33m...\u001b[0m\n",
       "Attributes: \u001b[1m(\u001b[0m\u001b[1;36m12\u001b[0m/\u001b[1;36m37\u001b[0m\u001b[1m)\u001b[0m\n",
       "    title:                      NOAA/NCEI \u001b[1;36m1\u001b[0m/\u001b[1;36m4\u001b[0m Degree Daily Optimum Interpolat\u001b[33m...\u001b[0m\n",
       "    source:                     ICOADS, NCEP_GTS, GSFC_ICE, NCEP_ICE, Pathfin\u001b[33m...\u001b[0m\n",
       "    id:                         oisst-avhrr-v02r01.\u001b[1;36m19810901.\u001b[0mnc\n",
       "    naming_authority:           gov.noaa.ncei\n",
       "    summary:                    NOAAs \u001b[1;36m1\u001b[0m/\u001b[1;36m4\u001b[0m-degree Daily Optimum Interpolation \u001b[33m...\u001b[0m\n",
       "    cdm_data_type:              Grid\n",
       "    \u001b[33m...\u001b[0m                         \u001b[33m...\u001b[0m\n",
       "    metadata_link:              \u001b[4;94mhttps://doi.org/10.25921/RE9P-PT57\u001b[0m\n",
       "    ncei_template_version:      NCEI_NetCDF_Grid_Template_v2.\u001b[1;36m0\u001b[0m\n",
       "    comment:                    Data was converted from NetCDF-\u001b[1;36m3\u001b[0m to NetCDF-\u001b[1;36m4\u001b[0m \u001b[33m...\u001b[0m\n",
       "    sensor:                     Thermometer, AVHRR\n",
       "    Conventions:                CF-\u001b[1;36m1.6\u001b[0m, ACDD-\u001b[1;36m1.3\u001b[0m\n",
       "    references:                 Reynolds, et \u001b[1;35mal.\u001b[0m\u001b[1m(\u001b[0m\u001b[1;36m2007\u001b[0m\u001b[1m)\u001b[0m Daily High-Resolution-\u001b[33m...\u001b[0m\n"
      ]
     },
     "metadata": {},
     "output_type": "display_data"
    }
   ],
   "source": [
    "import xarray as xr\n",
    "\n",
    "ds = xr.open_dataset(\"oisst-avhrr-v02r01.19810901.nc\")\n",
    "nbytes = ds.nbytes\n",
    "print(f\"{nbytes/1e6:.2f} MB\")\n",
    "print(ds)"
   ]
  },
  {
   "cell_type": "code",
   "execution_count": 4,
   "id": "0d8d9ae6",
   "metadata": {
    "slideshow": {
     "slide_type": "subslide"
    }
   },
   "outputs": [
    {
     "data": {
      "text/html": [
       "<pre style=\"white-space:pre;overflow-x:auto;line-height:normal;font-family:Menlo,'DejaVu Sans Mono',consolas,'Courier New',monospace\"><span style=\"color: #008080; text-decoration-color: #008080; font-weight: bold\">14372</span> files -&gt; <span style=\"color: #008080; text-decoration-color: #008080; font-weight: bold\">238.54</span> GB\n",
       "</pre>\n"
      ],
      "text/plain": [
       "\u001b[1;36m14372\u001b[0m files -> \u001b[1;36m238.54\u001b[0m GB\n"
      ]
     },
     "metadata": {},
     "output_type": "display_data"
    }
   ],
   "source": [
    "import pandas as pd\n",
    "\n",
    "# Our target range includes 14372 files\n",
    "dates = pd.date_range(\"1981-09-01\", \"2021-01-05\", freq=\"D\")\n",
    "\n",
    "print(f\"{len(dates)} files -> {(len(dates)*nbytes)/1e9:.2f} GB\")"
   ]
  },
  {
   "cell_type": "markdown",
   "id": "655f8666",
   "metadata": {
    "jp-MarkdownHeadingCollapsed": true,
    "slideshow": {
     "slide_type": "slide"
    },
    "tags": []
   },
   "source": [
    "## The old way: manual Zarr conversion\n",
    "\n",
    "- Reproducibility (i.e. provenance chain)\n",
    "- Scalability\n",
    "- Maintainability\n"
   ]
  },
  {
   "cell_type": "markdown",
   "id": "1690d90e",
   "metadata": {
    "slideshow": {
     "slide_type": "slide"
    }
   },
   "source": [
    "# A better way: Pangeo Forge\n",
    "\n",
    "1. `pangeo-forge-recipes`: Encodes complete ARCO data transformation pipeline as code which can be version controlled.\n",
    "2. **Pangeo Forge Cloud**: Automatation of recipe execution in the cloud. Integrated with GitHub."
   ]
  },
  {
   "cell_type": "code",
   "execution_count": 7,
   "id": "09b3cc44",
   "metadata": {
    "slideshow": {
     "slide_type": "subslide"
    }
   },
   "outputs": [
    {
     "data": {
      "text/html": [
       "<pre style=\"white-space:pre;overflow-x:auto;line-height:normal;font-family:Menlo,'DejaVu Sans Mono',consolas,'Courier New',monospace\"><span style=\"color: #800080; text-decoration-color: #800080; font-weight: bold\">Index</span><span style=\"font-weight: bold\">({</span><span style=\"color: #800080; text-decoration-color: #800080; font-weight: bold\">DimIndex</span><span style=\"font-weight: bold\">(</span><span style=\"color: #808000; text-decoration-color: #808000\">name</span>=<span style=\"color: #008000; text-decoration-color: #008000\">'time'</span>, <span style=\"color: #808000; text-decoration-color: #808000\">index</span>=<span style=\"color: #008080; text-decoration-color: #008080; font-weight: bold\">0</span>, <span style=\"color: #808000; text-decoration-color: #808000\">sequence_len</span>=<span style=\"color: #008080; text-decoration-color: #008080; font-weight: bold\">14372</span>, <span style=\"color: #808000; text-decoration-color: #808000\">operation</span>=<span style=\"font-weight: bold\">&lt;</span><span style=\"color: #ff00ff; text-decoration-color: #ff00ff; font-weight: bold\">CombineOp.CONCAT:</span><span style=\"color: #000000; text-decoration-color: #000000\"> </span><span style=\"color: #008080; text-decoration-color: #008080; font-weight: bold\">2</span><span style=\"font-weight: bold\">&gt;)})</span> \n",
       "<span style=\"color: #0000ff; text-decoration-color: #0000ff; text-decoration: underline\">https://www.ncei.noaa.gov/data/sea-surface-temperature-optimum-interpolation/v2.1/access/avhr</span>\n",
       "<span style=\"color: #0000ff; text-decoration-color: #0000ff; text-decoration: underline\">r/198109/oisst-avhrr-v02r01.19810901.nc</span>\n",
       "</pre>\n"
      ],
      "text/plain": [
       "\u001b[1;35mIndex\u001b[0m\u001b[1m(\u001b[0m\u001b[1m{\u001b[0m\u001b[1;35mDimIndex\u001b[0m\u001b[1m(\u001b[0m\u001b[33mname\u001b[0m=\u001b[32m'time'\u001b[0m, \u001b[33mindex\u001b[0m=\u001b[1;36m0\u001b[0m, \u001b[33msequence_len\u001b[0m=\u001b[1;36m14372\u001b[0m, \u001b[33moperation\u001b[0m=\u001b[1m<\u001b[0m\u001b[1;95mCombineOp.CONCAT:\u001b[0m\u001b[39m \u001b[0m\u001b[1;36m2\u001b[0m\u001b[1m>\u001b[0m\u001b[1m)\u001b[0m\u001b[1m}\u001b[0m\u001b[1m)\u001b[0m \n",
       "\u001b[4;94mhttps://www.ncei.noaa.gov/data/sea-surface-temperature-optimum-interpolation/v2.1/access/avhr\u001b[0m\n",
       "\u001b[4;94mr/198109/oisst-avhrr-v02r01.19810901.nc\u001b[0m\n"
      ]
     },
     "metadata": {},
     "output_type": "display_data"
    },
    {
     "data": {
      "text/html": [
       "<pre style=\"white-space:pre;overflow-x:auto;line-height:normal;font-family:Menlo,'DejaVu Sans Mono',consolas,'Courier New',monospace\"><span style=\"color: #800080; text-decoration-color: #800080; font-weight: bold\">Index</span><span style=\"font-weight: bold\">({</span><span style=\"color: #800080; text-decoration-color: #800080; font-weight: bold\">DimIndex</span><span style=\"font-weight: bold\">(</span><span style=\"color: #808000; text-decoration-color: #808000\">name</span>=<span style=\"color: #008000; text-decoration-color: #008000\">'time'</span>, <span style=\"color: #808000; text-decoration-color: #808000\">index</span>=<span style=\"color: #008080; text-decoration-color: #008080; font-weight: bold\">1</span>, <span style=\"color: #808000; text-decoration-color: #808000\">sequence_len</span>=<span style=\"color: #008080; text-decoration-color: #008080; font-weight: bold\">14372</span>, <span style=\"color: #808000; text-decoration-color: #808000\">operation</span>=<span style=\"font-weight: bold\">&lt;</span><span style=\"color: #ff00ff; text-decoration-color: #ff00ff; font-weight: bold\">CombineOp.CONCAT:</span><span style=\"color: #000000; text-decoration-color: #000000\"> </span><span style=\"color: #008080; text-decoration-color: #008080; font-weight: bold\">2</span><span style=\"font-weight: bold\">&gt;)})</span> \n",
       "<span style=\"color: #0000ff; text-decoration-color: #0000ff; text-decoration: underline\">https://www.ncei.noaa.gov/data/sea-surface-temperature-optimum-interpolation/v2.1/access/avhr</span>\n",
       "<span style=\"color: #0000ff; text-decoration-color: #0000ff; text-decoration: underline\">r/198109/oisst-avhrr-v02r01.19810902.nc</span>\n",
       "</pre>\n"
      ],
      "text/plain": [
       "\u001b[1;35mIndex\u001b[0m\u001b[1m(\u001b[0m\u001b[1m{\u001b[0m\u001b[1;35mDimIndex\u001b[0m\u001b[1m(\u001b[0m\u001b[33mname\u001b[0m=\u001b[32m'time'\u001b[0m, \u001b[33mindex\u001b[0m=\u001b[1;36m1\u001b[0m, \u001b[33msequence_len\u001b[0m=\u001b[1;36m14372\u001b[0m, \u001b[33moperation\u001b[0m=\u001b[1m<\u001b[0m\u001b[1;95mCombineOp.CONCAT:\u001b[0m\u001b[39m \u001b[0m\u001b[1;36m2\u001b[0m\u001b[1m>\u001b[0m\u001b[1m)\u001b[0m\u001b[1m}\u001b[0m\u001b[1m)\u001b[0m \n",
       "\u001b[4;94mhttps://www.ncei.noaa.gov/data/sea-surface-temperature-optimum-interpolation/v2.1/access/avhr\u001b[0m\n",
       "\u001b[4;94mr/198109/oisst-avhrr-v02r01.19810902.nc\u001b[0m\n"
      ]
     },
     "metadata": {},
     "output_type": "display_data"
    },
    {
     "data": {
      "text/html": [
       "<pre style=\"white-space:pre;overflow-x:auto;line-height:normal;font-family:Menlo,'DejaVu Sans Mono',consolas,'Courier New',monospace\"><span style=\"color: #800080; text-decoration-color: #800080; font-weight: bold\">Index</span><span style=\"font-weight: bold\">({</span><span style=\"color: #800080; text-decoration-color: #800080; font-weight: bold\">DimIndex</span><span style=\"font-weight: bold\">(</span><span style=\"color: #808000; text-decoration-color: #808000\">name</span>=<span style=\"color: #008000; text-decoration-color: #008000\">'time'</span>, <span style=\"color: #808000; text-decoration-color: #808000\">index</span>=<span style=\"color: #008080; text-decoration-color: #008080; font-weight: bold\">14370</span>, <span style=\"color: #808000; text-decoration-color: #808000\">sequence_len</span>=<span style=\"color: #008080; text-decoration-color: #008080; font-weight: bold\">14372</span>, <span style=\"color: #808000; text-decoration-color: #808000\">operation</span>=<span style=\"font-weight: bold\">&lt;</span><span style=\"color: #ff00ff; text-decoration-color: #ff00ff; font-weight: bold\">CombineOp.CONCAT:</span><span style=\"color: #000000; text-decoration-color: #000000\"> </span>\n",
       "<span style=\"color: #008080; text-decoration-color: #008080; font-weight: bold\">2</span><span style=\"font-weight: bold\">&gt;)})</span> <span style=\"color: #0000ff; text-decoration-color: #0000ff; text-decoration: underline\">https://www.ncei.noaa.gov/data/sea-surface-temperature-optimum-interpolation/v2.1/acces</span>\n",
       "<span style=\"color: #0000ff; text-decoration-color: #0000ff; text-decoration: underline\">s/avhrr/202101/oisst-avhrr-v02r01.20210104.nc</span>\n",
       "</pre>\n"
      ],
      "text/plain": [
       "\u001b[1;35mIndex\u001b[0m\u001b[1m(\u001b[0m\u001b[1m{\u001b[0m\u001b[1;35mDimIndex\u001b[0m\u001b[1m(\u001b[0m\u001b[33mname\u001b[0m=\u001b[32m'time'\u001b[0m, \u001b[33mindex\u001b[0m=\u001b[1;36m14370\u001b[0m, \u001b[33msequence_len\u001b[0m=\u001b[1;36m14372\u001b[0m, \u001b[33moperation\u001b[0m=\u001b[1m<\u001b[0m\u001b[1;95mCombineOp.CONCAT:\u001b[0m\u001b[39m \u001b[0m\n",
       "\u001b[1;36m2\u001b[0m\u001b[1m>\u001b[0m\u001b[1m)\u001b[0m\u001b[1m}\u001b[0m\u001b[1m)\u001b[0m \u001b[4;94mhttps://www.ncei.noaa.gov/data/sea-surface-temperature-optimum-interpolation/v2.1/acces\u001b[0m\n",
       "\u001b[4;94ms/avhrr/202101/oisst-avhrr-v02r01.20210104.nc\u001b[0m\n"
      ]
     },
     "metadata": {},
     "output_type": "display_data"
    },
    {
     "data": {
      "text/html": [
       "<pre style=\"white-space:pre;overflow-x:auto;line-height:normal;font-family:Menlo,'DejaVu Sans Mono',consolas,'Courier New',monospace\"><span style=\"color: #800080; text-decoration-color: #800080; font-weight: bold\">Index</span><span style=\"font-weight: bold\">({</span><span style=\"color: #800080; text-decoration-color: #800080; font-weight: bold\">DimIndex</span><span style=\"font-weight: bold\">(</span><span style=\"color: #808000; text-decoration-color: #808000\">name</span>=<span style=\"color: #008000; text-decoration-color: #008000\">'time'</span>, <span style=\"color: #808000; text-decoration-color: #808000\">index</span>=<span style=\"color: #008080; text-decoration-color: #008080; font-weight: bold\">14371</span>, <span style=\"color: #808000; text-decoration-color: #808000\">sequence_len</span>=<span style=\"color: #008080; text-decoration-color: #008080; font-weight: bold\">14372</span>, <span style=\"color: #808000; text-decoration-color: #808000\">operation</span>=<span style=\"font-weight: bold\">&lt;</span><span style=\"color: #ff00ff; text-decoration-color: #ff00ff; font-weight: bold\">CombineOp.CONCAT:</span><span style=\"color: #000000; text-decoration-color: #000000\"> </span>\n",
       "<span style=\"color: #008080; text-decoration-color: #008080; font-weight: bold\">2</span><span style=\"font-weight: bold\">&gt;)})</span> <span style=\"color: #0000ff; text-decoration-color: #0000ff; text-decoration: underline\">https://www.ncei.noaa.gov/data/sea-surface-temperature-optimum-interpolation/v2.1/acces</span>\n",
       "<span style=\"color: #0000ff; text-decoration-color: #0000ff; text-decoration: underline\">s/avhrr/202101/oisst-avhrr-v02r01.20210105.nc</span>\n",
       "</pre>\n"
      ],
      "text/plain": [
       "\u001b[1;35mIndex\u001b[0m\u001b[1m(\u001b[0m\u001b[1m{\u001b[0m\u001b[1;35mDimIndex\u001b[0m\u001b[1m(\u001b[0m\u001b[33mname\u001b[0m=\u001b[32m'time'\u001b[0m, \u001b[33mindex\u001b[0m=\u001b[1;36m14371\u001b[0m, \u001b[33msequence_len\u001b[0m=\u001b[1;36m14372\u001b[0m, \u001b[33moperation\u001b[0m=\u001b[1m<\u001b[0m\u001b[1;95mCombineOp.CONCAT:\u001b[0m\u001b[39m \u001b[0m\n",
       "\u001b[1;36m2\u001b[0m\u001b[1m>\u001b[0m\u001b[1m)\u001b[0m\u001b[1m}\u001b[0m\u001b[1m)\u001b[0m \u001b[4;94mhttps://www.ncei.noaa.gov/data/sea-surface-temperature-optimum-interpolation/v2.1/acces\u001b[0m\n",
       "\u001b[4;94ms/avhrr/202101/oisst-avhrr-v02r01.20210105.nc\u001b[0m\n"
      ]
     },
     "metadata": {},
     "output_type": "display_data"
    }
   ],
   "source": [
    "# https://github.com/pangeo-forge/staged-recipes/blob/master/recipes/noaa-oisst/recipe.py\n",
    "\n",
    "from noaa_oisst_recipe import recipe\n",
    "\n",
    "for i, (index, url) in enumerate(recipe.file_pattern.items()):\n",
    "    if i < 2 or i > 14369:\n",
    "        print(repr(index), url)"
   ]
  },
  {
   "cell_type": "markdown",
   "id": "a81875f9",
   "metadata": {
    "slideshow": {
     "slide_type": "subslide"
    }
   },
   "source": [
    "<img src='architecture.png'>"
   ]
  },
  {
   "cell_type": "code",
   "execution_count": 6,
   "id": "e5c45f62",
   "metadata": {
    "scrolled": true,
    "slideshow": {
     "slide_type": "subslide"
    }
   },
   "outputs": [
    {
     "data": {
      "text/html": [
       "<pre style=\"white-space:pre;overflow-x:auto;line-height:normal;font-family:Menlo,'DejaVu Sans Mono',consolas,'Courier New',monospace\"><span style=\"color: #008080; text-decoration-color: #008080; font-weight: bold\">241.07</span> GB\n",
       "</pre>\n"
      ],
      "text/plain": [
       "\u001b[1;36m241.07\u001b[0m GB\n"
      ]
     },
     "metadata": {},
     "output_type": "display_data"
    },
    {
     "data": {
      "text/html": [
       "<pre style=\"white-space:pre;overflow-x:auto;line-height:normal;font-family:Menlo,'DejaVu Sans Mono',consolas,'Courier New',monospace\"><span style=\"font-weight: bold\">&lt;</span><span style=\"color: #ff00ff; text-decoration-color: #ff00ff; font-weight: bold\">xarray.Dataset</span><span style=\"font-weight: bold\">&gt;</span>\n",
       "Dimensions:  <span style=\"font-weight: bold\">(</span>time: <span style=\"color: #008080; text-decoration-color: #008080; font-weight: bold\">14532</span>, zlev: <span style=\"color: #008080; text-decoration-color: #008080; font-weight: bold\">1</span>, lat: <span style=\"color: #008080; text-decoration-color: #008080; font-weight: bold\">720</span>, lon: <span style=\"color: #008080; text-decoration-color: #008080; font-weight: bold\">1440</span><span style=\"font-weight: bold\">)</span>\n",
       "Coordinates:\n",
       "  * lat      <span style=\"font-weight: bold\">(</span>lat<span style=\"font-weight: bold\">)</span> float32 <span style=\"color: #008080; text-decoration-color: #008080; font-weight: bold\">-89.88</span> <span style=\"color: #008080; text-decoration-color: #008080; font-weight: bold\">-89.62</span> <span style=\"color: #008080; text-decoration-color: #008080; font-weight: bold\">-89.38</span> <span style=\"color: #008080; text-decoration-color: #008080; font-weight: bold\">-89.12</span> <span style=\"color: #808000; text-decoration-color: #808000\">...</span> <span style=\"color: #008080; text-decoration-color: #008080; font-weight: bold\">89.38</span> <span style=\"color: #008080; text-decoration-color: #008080; font-weight: bold\">89.62</span> <span style=\"color: #008080; text-decoration-color: #008080; font-weight: bold\">89.88</span>\n",
       "  * lon      <span style=\"font-weight: bold\">(</span>lon<span style=\"font-weight: bold\">)</span> float32 <span style=\"color: #008080; text-decoration-color: #008080; font-weight: bold\">0.125</span> <span style=\"color: #008080; text-decoration-color: #008080; font-weight: bold\">0.375</span> <span style=\"color: #008080; text-decoration-color: #008080; font-weight: bold\">0.625</span> <span style=\"color: #008080; text-decoration-color: #008080; font-weight: bold\">0.875</span> <span style=\"color: #808000; text-decoration-color: #808000\">...</span> <span style=\"color: #008080; text-decoration-color: #008080; font-weight: bold\">359.1</span> <span style=\"color: #008080; text-decoration-color: #008080; font-weight: bold\">359.4</span> <span style=\"color: #008080; text-decoration-color: #008080; font-weight: bold\">359.6</span> <span style=\"color: #008080; text-decoration-color: #008080; font-weight: bold\">359.9</span>\n",
       "  * time     <span style=\"font-weight: bold\">(</span>time<span style=\"font-weight: bold\">)</span> datetime64<span style=\"font-weight: bold\">[</span>ns<span style=\"font-weight: bold\">]</span> <span style=\"color: #008080; text-decoration-color: #008080; font-weight: bold\">1981</span>-<span style=\"color: #008080; text-decoration-color: #008080; font-weight: bold\">09</span>-01T<span style=\"color: #00ff00; text-decoration-color: #00ff00; font-weight: bold\">12:00:00</span> <span style=\"color: #808000; text-decoration-color: #808000\">...</span> <span style=\"color: #008080; text-decoration-color: #008080; font-weight: bold\">2021</span>-<span style=\"color: #008080; text-decoration-color: #008080; font-weight: bold\">06</span>-14T<span style=\"color: #00ff00; text-decoration-color: #00ff00; font-weight: bold\">12:00:00</span>\n",
       "  * zlev     <span style=\"font-weight: bold\">(</span>zlev<span style=\"font-weight: bold\">)</span> float32 <span style=\"color: #008080; text-decoration-color: #008080; font-weight: bold\">0.0</span>\n",
       "Data variables:\n",
       "    anom     <span style=\"font-weight: bold\">(</span>time, zlev, lat, lon<span style=\"font-weight: bold\">)</span> float32 dask.array<span style=\"font-weight: bold\">&lt;</span><span style=\"color: #808000; text-decoration-color: #808000; font-weight: bold\">chunksize</span><span style=\"color: #000000; text-decoration-color: #000000\">=</span><span style=\"color: #000000; text-decoration-color: #000000; font-weight: bold\">(</span><span style=\"color: #008080; text-decoration-color: #008080; font-weight: bold\">20</span><span style=\"color: #000000; text-decoration-color: #000000\">, </span><span style=\"color: #008080; text-decoration-color: #008080; font-weight: bold\">1</span><span style=\"color: #000000; text-decoration-color: #000000\">, </span><span style=\"color: #008080; text-decoration-color: #008080; font-weight: bold\">720</span><span style=\"color: #000000; text-decoration-color: #000000\">, </span><span style=\"color: #008080; text-decoration-color: #008080; font-weight: bold\">1440</span><span style=\"color: #000000; text-decoration-color: #000000; font-weight: bold\">)</span><span style=\"color: #000000; text-decoration-color: #000000\">, </span>\n",
       "<span style=\"color: #808000; text-decoration-color: #808000\">meta</span><span style=\"color: #000000; text-decoration-color: #000000\">=</span><span style=\"color: #800080; text-decoration-color: #800080\">np</span><span style=\"color: #000000; text-decoration-color: #000000\">.ndarray</span><span style=\"font-weight: bold\">&gt;</span>\n",
       "    err      <span style=\"font-weight: bold\">(</span>time, zlev, lat, lon<span style=\"font-weight: bold\">)</span> float32 dask.array<span style=\"font-weight: bold\">&lt;</span><span style=\"color: #808000; text-decoration-color: #808000; font-weight: bold\">chunksize</span><span style=\"color: #000000; text-decoration-color: #000000\">=</span><span style=\"color: #000000; text-decoration-color: #000000; font-weight: bold\">(</span><span style=\"color: #008080; text-decoration-color: #008080; font-weight: bold\">20</span><span style=\"color: #000000; text-decoration-color: #000000\">, </span><span style=\"color: #008080; text-decoration-color: #008080; font-weight: bold\">1</span><span style=\"color: #000000; text-decoration-color: #000000\">, </span><span style=\"color: #008080; text-decoration-color: #008080; font-weight: bold\">720</span><span style=\"color: #000000; text-decoration-color: #000000\">, </span><span style=\"color: #008080; text-decoration-color: #008080; font-weight: bold\">1440</span><span style=\"color: #000000; text-decoration-color: #000000; font-weight: bold\">)</span><span style=\"color: #000000; text-decoration-color: #000000\">, </span>\n",
       "<span style=\"color: #808000; text-decoration-color: #808000\">meta</span><span style=\"color: #000000; text-decoration-color: #000000\">=</span><span style=\"color: #800080; text-decoration-color: #800080\">np</span><span style=\"color: #000000; text-decoration-color: #000000\">.ndarray</span><span style=\"font-weight: bold\">&gt;</span>\n",
       "    ice      <span style=\"font-weight: bold\">(</span>time, zlev, lat, lon<span style=\"font-weight: bold\">)</span> float32 dask.array<span style=\"font-weight: bold\">&lt;</span><span style=\"color: #808000; text-decoration-color: #808000; font-weight: bold\">chunksize</span><span style=\"color: #000000; text-decoration-color: #000000\">=</span><span style=\"color: #000000; text-decoration-color: #000000; font-weight: bold\">(</span><span style=\"color: #008080; text-decoration-color: #008080; font-weight: bold\">20</span><span style=\"color: #000000; text-decoration-color: #000000\">, </span><span style=\"color: #008080; text-decoration-color: #008080; font-weight: bold\">1</span><span style=\"color: #000000; text-decoration-color: #000000\">, </span><span style=\"color: #008080; text-decoration-color: #008080; font-weight: bold\">720</span><span style=\"color: #000000; text-decoration-color: #000000\">, </span><span style=\"color: #008080; text-decoration-color: #008080; font-weight: bold\">1440</span><span style=\"color: #000000; text-decoration-color: #000000; font-weight: bold\">)</span><span style=\"color: #000000; text-decoration-color: #000000\">, </span>\n",
       "<span style=\"color: #808000; text-decoration-color: #808000\">meta</span><span style=\"color: #000000; text-decoration-color: #000000\">=</span><span style=\"color: #800080; text-decoration-color: #800080\">np</span><span style=\"color: #000000; text-decoration-color: #000000\">.ndarray</span><span style=\"font-weight: bold\">&gt;</span>\n",
       "    sst      <span style=\"font-weight: bold\">(</span>time, zlev, lat, lon<span style=\"font-weight: bold\">)</span> float32 dask.array<span style=\"font-weight: bold\">&lt;</span><span style=\"color: #808000; text-decoration-color: #808000; font-weight: bold\">chunksize</span><span style=\"color: #000000; text-decoration-color: #000000\">=</span><span style=\"color: #000000; text-decoration-color: #000000; font-weight: bold\">(</span><span style=\"color: #008080; text-decoration-color: #008080; font-weight: bold\">20</span><span style=\"color: #000000; text-decoration-color: #000000\">, </span><span style=\"color: #008080; text-decoration-color: #008080; font-weight: bold\">1</span><span style=\"color: #000000; text-decoration-color: #000000\">, </span><span style=\"color: #008080; text-decoration-color: #008080; font-weight: bold\">720</span><span style=\"color: #000000; text-decoration-color: #000000\">, </span><span style=\"color: #008080; text-decoration-color: #008080; font-weight: bold\">1440</span><span style=\"color: #000000; text-decoration-color: #000000; font-weight: bold\">)</span><span style=\"color: #000000; text-decoration-color: #000000\">, </span>\n",
       "<span style=\"color: #808000; text-decoration-color: #808000\">meta</span><span style=\"color: #000000; text-decoration-color: #000000\">=</span><span style=\"color: #800080; text-decoration-color: #800080\">np</span><span style=\"color: #000000; text-decoration-color: #000000\">.ndarray</span><span style=\"font-weight: bold\">&gt;</span>\n",
       "Attributes: <span style=\"font-weight: bold\">(</span><span style=\"color: #008080; text-decoration-color: #008080; font-weight: bold\">12</span>/<span style=\"color: #008080; text-decoration-color: #008080; font-weight: bold\">37</span><span style=\"font-weight: bold\">)</span>\n",
       "    Conventions:                CF-<span style=\"color: #008080; text-decoration-color: #008080; font-weight: bold\">1.6</span>, ACDD-<span style=\"color: #008080; text-decoration-color: #008080; font-weight: bold\">1.3</span>\n",
       "    cdm_data_type:              Grid\n",
       "    comment:                    Data was converted from NetCDF-<span style=\"color: #008080; text-decoration-color: #008080; font-weight: bold\">3</span> to NetCDF-<span style=\"color: #008080; text-decoration-color: #008080; font-weight: bold\">4</span> <span style=\"color: #808000; text-decoration-color: #808000\">...</span>\n",
       "    creator_email:              oisst-help@noaa.gov\n",
       "    creator_url:                <span style=\"color: #0000ff; text-decoration-color: #0000ff; text-decoration: underline\">https://www.ncei.noaa.gov/</span>\n",
       "    date_created:               <span style=\"color: #008080; text-decoration-color: #008080; font-weight: bold\">2020</span>-<span style=\"color: #008080; text-decoration-color: #008080; font-weight: bold\">05</span>-08T<span style=\"color: #00ff00; text-decoration-color: #00ff00; font-weight: bold\">19:05:13</span>Z\n",
       "    <span style=\"color: #808000; text-decoration-color: #808000\">...</span>                         <span style=\"color: #808000; text-decoration-color: #808000\">...</span>\n",
       "    source:                     ICOADS, NCEP_GTS, GSFC_ICE, NCEP_ICE, Pathfin<span style=\"color: #808000; text-decoration-color: #808000\">...</span>\n",
       "    standard_name_vocabulary:   CF Standard Name Table <span style=\"font-weight: bold\">(</span>v40, <span style=\"color: #008080; text-decoration-color: #008080; font-weight: bold\">25</span> January <span style=\"color: #008080; text-decoration-color: #008080; font-weight: bold\">2017</span><span style=\"font-weight: bold\">)</span>\n",
       "    summary:                    NOAAs <span style=\"color: #008080; text-decoration-color: #008080; font-weight: bold\">1</span>/<span style=\"color: #008080; text-decoration-color: #008080; font-weight: bold\">4</span>-degree Daily Optimum Interpolation <span style=\"color: #808000; text-decoration-color: #808000\">...</span>\n",
       "    time_coverage_end:          <span style=\"color: #008080; text-decoration-color: #008080; font-weight: bold\">1981</span>-<span style=\"color: #008080; text-decoration-color: #008080; font-weight: bold\">09</span>-01T<span style=\"color: #00ff00; text-decoration-color: #00ff00; font-weight: bold\">23:59:59</span>Z\n",
       "    time_coverage_start:        <span style=\"color: #008080; text-decoration-color: #008080; font-weight: bold\">1981</span>-<span style=\"color: #008080; text-decoration-color: #008080; font-weight: bold\">09</span>-01T<span style=\"color: #00ff00; text-decoration-color: #00ff00; font-weight: bold\">00:00:00</span>Z\n",
       "    title:                      NOAA/NCEI <span style=\"color: #008080; text-decoration-color: #008080; font-weight: bold\">1</span>/<span style=\"color: #008080; text-decoration-color: #008080; font-weight: bold\">4</span> Degree Daily Optimum Interpolat<span style=\"color: #808000; text-decoration-color: #808000\">...</span>\n",
       "</pre>\n"
      ],
      "text/plain": [
       "\u001b[1m<\u001b[0m\u001b[1;95mxarray.Dataset\u001b[0m\u001b[1m>\u001b[0m\n",
       "Dimensions:  \u001b[1m(\u001b[0mtime: \u001b[1;36m14532\u001b[0m, zlev: \u001b[1;36m1\u001b[0m, lat: \u001b[1;36m720\u001b[0m, lon: \u001b[1;36m1440\u001b[0m\u001b[1m)\u001b[0m\n",
       "Coordinates:\n",
       "  * lat      \u001b[1m(\u001b[0mlat\u001b[1m)\u001b[0m float32 \u001b[1;36m-89.88\u001b[0m \u001b[1;36m-89.62\u001b[0m \u001b[1;36m-89.38\u001b[0m \u001b[1;36m-89.12\u001b[0m \u001b[33m...\u001b[0m \u001b[1;36m89.38\u001b[0m \u001b[1;36m89.62\u001b[0m \u001b[1;36m89.88\u001b[0m\n",
       "  * lon      \u001b[1m(\u001b[0mlon\u001b[1m)\u001b[0m float32 \u001b[1;36m0.125\u001b[0m \u001b[1;36m0.375\u001b[0m \u001b[1;36m0.625\u001b[0m \u001b[1;36m0.875\u001b[0m \u001b[33m...\u001b[0m \u001b[1;36m359.1\u001b[0m \u001b[1;36m359.4\u001b[0m \u001b[1;36m359.6\u001b[0m \u001b[1;36m359.9\u001b[0m\n",
       "  * time     \u001b[1m(\u001b[0mtime\u001b[1m)\u001b[0m datetime64\u001b[1m[\u001b[0mns\u001b[1m]\u001b[0m \u001b[1;36m1981\u001b[0m-\u001b[1;36m09\u001b[0m-01T\u001b[1;92m12:00:00\u001b[0m \u001b[33m...\u001b[0m \u001b[1;36m2021\u001b[0m-\u001b[1;36m06\u001b[0m-14T\u001b[1;92m12:00:00\u001b[0m\n",
       "  * zlev     \u001b[1m(\u001b[0mzlev\u001b[1m)\u001b[0m float32 \u001b[1;36m0.0\u001b[0m\n",
       "Data variables:\n",
       "    anom     \u001b[1m(\u001b[0mtime, zlev, lat, lon\u001b[1m)\u001b[0m float32 dask.array\u001b[1m<\u001b[0m\u001b[1;33mchunksize\u001b[0m\u001b[39m=\u001b[0m\u001b[1;39m(\u001b[0m\u001b[1;36m20\u001b[0m\u001b[39m, \u001b[0m\u001b[1;36m1\u001b[0m\u001b[39m, \u001b[0m\u001b[1;36m720\u001b[0m\u001b[39m, \u001b[0m\u001b[1;36m1440\u001b[0m\u001b[1;39m)\u001b[0m\u001b[39m, \u001b[0m\n",
       "\u001b[33mmeta\u001b[0m\u001b[39m=\u001b[0m\u001b[35mnp\u001b[0m\u001b[39m.ndarray\u001b[0m\u001b[1m>\u001b[0m\n",
       "    err      \u001b[1m(\u001b[0mtime, zlev, lat, lon\u001b[1m)\u001b[0m float32 dask.array\u001b[1m<\u001b[0m\u001b[1;33mchunksize\u001b[0m\u001b[39m=\u001b[0m\u001b[1;39m(\u001b[0m\u001b[1;36m20\u001b[0m\u001b[39m, \u001b[0m\u001b[1;36m1\u001b[0m\u001b[39m, \u001b[0m\u001b[1;36m720\u001b[0m\u001b[39m, \u001b[0m\u001b[1;36m1440\u001b[0m\u001b[1;39m)\u001b[0m\u001b[39m, \u001b[0m\n",
       "\u001b[33mmeta\u001b[0m\u001b[39m=\u001b[0m\u001b[35mnp\u001b[0m\u001b[39m.ndarray\u001b[0m\u001b[1m>\u001b[0m\n",
       "    ice      \u001b[1m(\u001b[0mtime, zlev, lat, lon\u001b[1m)\u001b[0m float32 dask.array\u001b[1m<\u001b[0m\u001b[1;33mchunksize\u001b[0m\u001b[39m=\u001b[0m\u001b[1;39m(\u001b[0m\u001b[1;36m20\u001b[0m\u001b[39m, \u001b[0m\u001b[1;36m1\u001b[0m\u001b[39m, \u001b[0m\u001b[1;36m720\u001b[0m\u001b[39m, \u001b[0m\u001b[1;36m1440\u001b[0m\u001b[1;39m)\u001b[0m\u001b[39m, \u001b[0m\n",
       "\u001b[33mmeta\u001b[0m\u001b[39m=\u001b[0m\u001b[35mnp\u001b[0m\u001b[39m.ndarray\u001b[0m\u001b[1m>\u001b[0m\n",
       "    sst      \u001b[1m(\u001b[0mtime, zlev, lat, lon\u001b[1m)\u001b[0m float32 dask.array\u001b[1m<\u001b[0m\u001b[1;33mchunksize\u001b[0m\u001b[39m=\u001b[0m\u001b[1;39m(\u001b[0m\u001b[1;36m20\u001b[0m\u001b[39m, \u001b[0m\u001b[1;36m1\u001b[0m\u001b[39m, \u001b[0m\u001b[1;36m720\u001b[0m\u001b[39m, \u001b[0m\u001b[1;36m1440\u001b[0m\u001b[1;39m)\u001b[0m\u001b[39m, \u001b[0m\n",
       "\u001b[33mmeta\u001b[0m\u001b[39m=\u001b[0m\u001b[35mnp\u001b[0m\u001b[39m.ndarray\u001b[0m\u001b[1m>\u001b[0m\n",
       "Attributes: \u001b[1m(\u001b[0m\u001b[1;36m12\u001b[0m/\u001b[1;36m37\u001b[0m\u001b[1m)\u001b[0m\n",
       "    Conventions:                CF-\u001b[1;36m1.6\u001b[0m, ACDD-\u001b[1;36m1.3\u001b[0m\n",
       "    cdm_data_type:              Grid\n",
       "    comment:                    Data was converted from NetCDF-\u001b[1;36m3\u001b[0m to NetCDF-\u001b[1;36m4\u001b[0m \u001b[33m...\u001b[0m\n",
       "    creator_email:              oisst-help@noaa.gov\n",
       "    creator_url:                \u001b[4;94mhttps://www.ncei.noaa.gov/\u001b[0m\n",
       "    date_created:               \u001b[1;36m2020\u001b[0m-\u001b[1;36m05\u001b[0m-08T\u001b[1;92m19:05:13\u001b[0mZ\n",
       "    \u001b[33m...\u001b[0m                         \u001b[33m...\u001b[0m\n",
       "    source:                     ICOADS, NCEP_GTS, GSFC_ICE, NCEP_ICE, Pathfin\u001b[33m...\u001b[0m\n",
       "    standard_name_vocabulary:   CF Standard Name Table \u001b[1m(\u001b[0mv40, \u001b[1;36m25\u001b[0m January \u001b[1;36m2017\u001b[0m\u001b[1m)\u001b[0m\n",
       "    summary:                    NOAAs \u001b[1;36m1\u001b[0m/\u001b[1;36m4\u001b[0m-degree Daily Optimum Interpolation \u001b[33m...\u001b[0m\n",
       "    time_coverage_end:          \u001b[1;36m1981\u001b[0m-\u001b[1;36m09\u001b[0m-01T\u001b[1;92m23:59:59\u001b[0mZ\n",
       "    time_coverage_start:        \u001b[1;36m1981\u001b[0m-\u001b[1;36m09\u001b[0m-01T\u001b[1;92m00:00:00\u001b[0mZ\n",
       "    title:                      NOAA/NCEI \u001b[1;36m1\u001b[0m/\u001b[1;36m4\u001b[0m Degree Daily Optimum Interpolat\u001b[33m...\u001b[0m\n"
      ]
     },
     "metadata": {},
     "output_type": "display_data"
    }
   ],
   "source": [
    "import s3fs\n",
    "import xarray as xr\n",
    "\n",
    "endpoint_url = \"https://ncsa.osn.xsede.org\"\n",
    "fs_osn = s3fs.S3FileSystem(anon=True, client_kwargs={\"endpoint_url\": endpoint_url},)\n",
    "\n",
    "path = \"s3://Pangeo/pangeo-forge/noaa_oisst/v2.1-avhrr.zarr\"\n",
    "ds = xr.open_zarr(fs_osn.get_mapper(path), consolidated=True)\n",
    "print(f\"{ds.nbytes/1e9:.2f} GB\")\n",
    "print(ds)"
   ]
  },
  {
   "cell_type": "markdown",
   "id": "2aeaaeee",
   "metadata": {
    "slideshow": {
     "slide_type": "slide"
    }
   },
   "source": [
    "<center>\n",
    "<img src=\"pangeo-forge-logo-blue-2.png\">\n",
    "\n",
    "<h1> https://pangeo-forge.readthedocs.io/ </h1>\n",
    "</center>"
   ]
  }
 ],
 "metadata": {
  "celltoolbar": "Slideshow",
  "interpreter": {
   "hash": "17cbe981d2a215796e0ced3918861e033dc690df05cffe90ee5c9c8156b2d59a"
  },
  "kernelspec": {
   "display_name": "Python 3 (ipykernel)",
   "language": "python",
   "name": "python3"
  },
  "language_info": {
   "codemirror_mode": {
    "name": "ipython",
    "version": 3
   },
   "file_extension": ".py",
   "mimetype": "text/x-python",
   "name": "python",
   "nbconvert_exporter": "python",
   "pygments_lexer": "ipython3",
   "version": "3.9.7"
  },
  "rise": {
   "theme": "simple"
  }
 },
 "nbformat": 4,
 "nbformat_minor": 5
}
